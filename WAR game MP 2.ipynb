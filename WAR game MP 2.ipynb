{
 "cells": [
  {
   "cell_type": "code",
   "execution_count": 1,
   "id": "9f2b1da4",
   "metadata": {},
   "outputs": [],
   "source": [
    "values = {'Two':2, 'Three':3, 'Four':4, 'Five':5, 'Six':6, 'Seven':7, 'Eight':8, 'Nine':9, 'Ten':10, 'Jack':10,\n",
    "         'Queen':10, 'King':10, 'Ace':11}\n",
    "suits = ('Hearts', 'Diamonds', 'Spades', 'Clubs')\n",
    "ranks = ('Two', 'Three', 'Four', 'Five', 'Six', 'Seven', 'Eight', 'Nine', 'Ten', 'Jack', 'Queen', 'King', 'Ace')"
   ]
  },
  {
   "cell_type": "code",
   "execution_count": 2,
   "id": "b4be031e",
   "metadata": {},
   "outputs": [],
   "source": [
    "class Card():\n",
    "    def __init__(self,suit,rank):\n",
    "        self.suit = suit\n",
    "        self.rank = rank\n",
    "        self.value = values[rank]\n",
    "    \n",
    "    def __str__(self):\n",
    "        return self.suit + \" of \" + self.rank"
   ]
  },
  {
   "cell_type": "code",
   "execution_count": 3,
   "id": "f6eda6e1",
   "metadata": {},
   "outputs": [],
   "source": [
    "two_hearts = Card('hearts','Two')"
   ]
  },
  {
   "cell_type": "code",
   "execution_count": 4,
   "id": "d32e3f38",
   "metadata": {},
   "outputs": [
    {
     "data": {
      "text/plain": [
       "'Two'"
      ]
     },
     "execution_count": 4,
     "metadata": {},
     "output_type": "execute_result"
    }
   ],
   "source": [
    "two_hearts.rank"
   ]
  },
  {
   "cell_type": "code",
   "execution_count": 5,
   "id": "be6e6bba",
   "metadata": {},
   "outputs": [
    {
     "data": {
      "text/plain": [
       "'hearts'"
      ]
     },
     "execution_count": 5,
     "metadata": {},
     "output_type": "execute_result"
    }
   ],
   "source": [
    "two_hearts.suit"
   ]
  },
  {
   "cell_type": "code",
   "execution_count": 6,
   "id": "07364f8d",
   "metadata": {},
   "outputs": [
    {
     "name": "stdout",
     "output_type": "stream",
     "text": [
      "hearts of Two\n"
     ]
    }
   ],
   "source": [
    "print(two_hearts)"
   ]
  },
  {
   "cell_type": "code",
   "execution_count": 7,
   "id": "520506fb",
   "metadata": {},
   "outputs": [],
   "source": [
    "club_of_three = Card('club','Three')"
   ]
  },
  {
   "cell_type": "code",
   "execution_count": 8,
   "id": "c160e450",
   "metadata": {},
   "outputs": [
    {
     "data": {
      "text/plain": [
       "'Three'"
      ]
     },
     "execution_count": 8,
     "metadata": {},
     "output_type": "execute_result"
    }
   ],
   "source": [
    "club_of_three.rank"
   ]
  },
  {
   "cell_type": "code",
   "execution_count": 9,
   "id": "1c7ab5a2",
   "metadata": {},
   "outputs": [
    {
     "data": {
      "text/plain": [
       "'club'"
      ]
     },
     "execution_count": 9,
     "metadata": {},
     "output_type": "execute_result"
    }
   ],
   "source": [
    "club_of_three.suit"
   ]
  },
  {
   "cell_type": "code",
   "execution_count": 10,
   "id": "9a9a99bb",
   "metadata": {},
   "outputs": [
    {
     "data": {
      "text/plain": [
       "3"
      ]
     },
     "execution_count": 10,
     "metadata": {},
     "output_type": "execute_result"
    }
   ],
   "source": [
    "club_of_three.value"
   ]
  },
  {
   "cell_type": "code",
   "execution_count": 11,
   "id": "443c13d2",
   "metadata": {},
   "outputs": [
    {
     "data": {
      "text/plain": [
       "True"
      ]
     },
     "execution_count": 11,
     "metadata": {},
     "output_type": "execute_result"
    }
   ],
   "source": [
    "two_hearts.value < club_of_three.value"
   ]
  },
  {
   "cell_type": "code",
   "execution_count": 12,
   "id": "f5450a39",
   "metadata": {},
   "outputs": [],
   "source": [
    "import random\n",
    "class Deck():\n",
    "    def __init__(self):\n",
    "        self.all_cards = []\n",
    "\n",
    "#suits = ('Hearts', 'Diamonds', 'Spades', 'Clubs')        \n",
    "#ranks = ('Two', 'Three', 'Four', 'Five', 'Six', 'Seven', 'Eight', 'Nine', 'Ten', 'Jack', 'Queen', 'King', 'Ace')\n",
    "\n",
    "        for suit in suits:\n",
    "            for rank in ranks:\n",
    "                created_cards = Card(suit,rank)\n",
    "                self.all_cards.append(created_cards)\n",
    "    \n",
    "\n",
    "        \n",
    "\n",
    "                "
   ]
  },
  {
   "cell_type": "code",
   "execution_count": 13,
   "id": "6dfd09f6",
   "metadata": {},
   "outputs": [],
   "source": [
    "new_deck = Deck()"
   ]
  },
  {
   "cell_type": "code",
   "execution_count": 14,
   "id": "ce66fe75",
   "metadata": {},
   "outputs": [
    {
     "data": {
      "text/plain": [
       "[<__main__.Card at 0x1dab588b730>,\n",
       " <__main__.Card at 0x1dab588b5b0>,\n",
       " <__main__.Card at 0x1dab588bca0>,\n",
       " <__main__.Card at 0x1dab588bfd0>,\n",
       " <__main__.Card at 0x1dab588b7c0>,\n",
       " <__main__.Card at 0x1dab588bc70>,\n",
       " <__main__.Card at 0x1dab588beb0>,\n",
       " <__main__.Card at 0x1dab588be80>,\n",
       " <__main__.Card at 0x1dab588b2e0>,\n",
       " <__main__.Card at 0x1dab63ca790>,\n",
       " <__main__.Card at 0x1dab63cadf0>,\n",
       " <__main__.Card at 0x1dab63ca0a0>,\n",
       " <__main__.Card at 0x1dab63ca400>,\n",
       " <__main__.Card at 0x1dab63caf40>,\n",
       " <__main__.Card at 0x1dab63cab80>,\n",
       " <__main__.Card at 0x1dab63ca760>,\n",
       " <__main__.Card at 0x1dab63ca340>,\n",
       " <__main__.Card at 0x1dab63cab20>,\n",
       " <__main__.Card at 0x1dab63ca820>,\n",
       " <__main__.Card at 0x1dab63cad30>,\n",
       " <__main__.Card at 0x1dab63caf70>,\n",
       " <__main__.Card at 0x1dab63ca130>,\n",
       " <__main__.Card at 0x1dab63cac10>,\n",
       " <__main__.Card at 0x1dab63caa60>,\n",
       " <__main__.Card at 0x1dab63caac0>,\n",
       " <__main__.Card at 0x1dab63ca4f0>,\n",
       " <__main__.Card at 0x1dab63caa90>,\n",
       " <__main__.Card at 0x1dab63ca8b0>,\n",
       " <__main__.Card at 0x1dab63ca220>,\n",
       " <__main__.Card at 0x1dab63ca730>,\n",
       " <__main__.Card at 0x1dab63ca370>,\n",
       " <__main__.Card at 0x1dab63cadc0>,\n",
       " <__main__.Card at 0x1dab63ca880>,\n",
       " <__main__.Card at 0x1dab63ca550>,\n",
       " <__main__.Card at 0x1dab63ca190>,\n",
       " <__main__.Card at 0x1dab63ca2e0>,\n",
       " <__main__.Card at 0x1dab63ca280>,\n",
       " <__main__.Card at 0x1dab63cad00>,\n",
       " <__main__.Card at 0x1dab622f5e0>,\n",
       " <__main__.Card at 0x1dab622fcd0>,\n",
       " <__main__.Card at 0x1dab622f880>,\n",
       " <__main__.Card at 0x1dab63ccf10>,\n",
       " <__main__.Card at 0x1dab63cc2b0>,\n",
       " <__main__.Card at 0x1dab63cc190>,\n",
       " <__main__.Card at 0x1dab63ccf70>,\n",
       " <__main__.Card at 0x1dab63ccaf0>,\n",
       " <__main__.Card at 0x1dab63ccfa0>,\n",
       " <__main__.Card at 0x1dab63cca00>,\n",
       " <__main__.Card at 0x1dab63ccdc0>,\n",
       " <__main__.Card at 0x1dab63ccd90>,\n",
       " <__main__.Card at 0x1dab63cc250>,\n",
       " <__main__.Card at 0x1dab63cc040>]"
      ]
     },
     "execution_count": 14,
     "metadata": {},
     "output_type": "execute_result"
    }
   ],
   "source": [
    "new_deck.all_cards"
   ]
  },
  {
   "cell_type": "code",
   "execution_count": 15,
   "id": "dc6c82ee",
   "metadata": {},
   "outputs": [],
   "source": [
    "#card objects stored in memory can be accessed via list indexing"
   ]
  },
  {
   "cell_type": "code",
   "execution_count": 16,
   "id": "68e196ff",
   "metadata": {},
   "outputs": [
    {
     "name": "stdout",
     "output_type": "stream",
     "text": [
      "Hearts of Two\n"
     ]
    }
   ],
   "source": [
    "first_card = new_deck.all_cards[0]\n",
    "print(first_card)"
   ]
  },
  {
   "cell_type": "code",
   "execution_count": 17,
   "id": "da6eee26",
   "metadata": {},
   "outputs": [
    {
     "name": "stdout",
     "output_type": "stream",
     "text": [
      "Clubs of Ace\n"
     ]
    }
   ],
   "source": [
    "last_card = new_deck.all_cards[-1]\n",
    "print(last_card)"
   ]
  },
  {
   "cell_type": "code",
   "execution_count": 18,
   "id": "b2ae8528",
   "metadata": {},
   "outputs": [
    {
     "name": "stdout",
     "output_type": "stream",
     "text": [
      "Hearts of Two\n",
      "Hearts of Three\n",
      "Hearts of Four\n",
      "Hearts of Five\n",
      "Hearts of Six\n",
      "Hearts of Seven\n",
      "Hearts of Eight\n",
      "Hearts of Nine\n",
      "Hearts of Ten\n",
      "Hearts of Jack\n",
      "Hearts of Queen\n",
      "Hearts of King\n",
      "Hearts of Ace\n",
      "Diamonds of Two\n",
      "Diamonds of Three\n",
      "Diamonds of Four\n",
      "Diamonds of Five\n",
      "Diamonds of Six\n",
      "Diamonds of Seven\n",
      "Diamonds of Eight\n",
      "Diamonds of Nine\n",
      "Diamonds of Ten\n",
      "Diamonds of Jack\n",
      "Diamonds of Queen\n",
      "Diamonds of King\n",
      "Diamonds of Ace\n",
      "Spades of Two\n",
      "Spades of Three\n",
      "Spades of Four\n",
      "Spades of Five\n",
      "Spades of Six\n",
      "Spades of Seven\n",
      "Spades of Eight\n",
      "Spades of Nine\n",
      "Spades of Ten\n",
      "Spades of Jack\n",
      "Spades of Queen\n",
      "Spades of King\n",
      "Spades of Ace\n",
      "Clubs of Two\n",
      "Clubs of Three\n",
      "Clubs of Four\n",
      "Clubs of Five\n",
      "Clubs of Six\n",
      "Clubs of Seven\n",
      "Clubs of Eight\n",
      "Clubs of Nine\n",
      "Clubs of Ten\n",
      "Clubs of Jack\n",
      "Clubs of Queen\n",
      "Clubs of King\n",
      "Clubs of Ace\n",
      "\n",
      " total card count in a deck 52\n"
     ]
    }
   ],
   "source": [
    "i=0\n",
    "for card_obj in new_deck.all_cards:\n",
    "    i+=1\n",
    "    print(card_obj)\n",
    "\n",
    "print(\"\\n total card count in a deck\",i)"
   ]
  },
  {
   "cell_type": "code",
   "execution_count": 19,
   "id": "7df5b6e2",
   "metadata": {},
   "outputs": [],
   "source": [
    "import random\n",
    "class Deck():\n",
    "    def __init__(self):\n",
    "        self.all_cards = []\n",
    "\n",
    "#suits = ('Hearts', 'Diamonds', 'Spades', 'Clubs')        \n",
    "#ranks = ('Two', 'Three', 'Four', 'Five', 'Six', 'Seven', 'Eight', 'Nine', 'Ten', 'Jack', 'Queen', 'King', 'Ace')\n",
    "\n",
    "        for suit in suits:\n",
    "            for rank in ranks:\n",
    "                created_cards = Card(suit,rank)\n",
    "                self.all_cards.append(created_cards)\n",
    "\n",
    "#Shuffle function\n",
    "    def shuffle(self):\n",
    "        random.shuffle(self.all_cards)"
   ]
  },
  {
   "cell_type": "code",
   "execution_count": 20,
   "id": "9a4258e6",
   "metadata": {},
   "outputs": [],
   "source": [
    "shuff_deck = Deck() "
   ]
  },
  {
   "cell_type": "code",
   "execution_count": 21,
   "id": "ccbbc9f5",
   "metadata": {},
   "outputs": [],
   "source": [
    "bottom_card = shuff_deck.all_cards[-1]"
   ]
  },
  {
   "cell_type": "code",
   "execution_count": 22,
   "id": "85569c24",
   "metadata": {},
   "outputs": [
    {
     "name": "stdout",
     "output_type": "stream",
     "text": [
      "Clubs of Ace\n"
     ]
    }
   ],
   "source": [
    "print(bottom_card)"
   ]
  },
  {
   "cell_type": "code",
   "execution_count": 23,
   "id": "56755431",
   "metadata": {},
   "outputs": [],
   "source": [
    "import random\n",
    "class Deck():\n",
    "    def __init__(self):\n",
    "        self.all_cards = []\n",
    "\n",
    "#suits = ('Hearts', 'Diamonds', 'Spades', 'Clubs')        \n",
    "#ranks = ('Two', 'Three', 'Four', 'Five', 'Six', 'Seven', 'Eight', 'Nine', 'Ten', 'Jack', 'Queen', 'King', 'Ace')\n",
    "\n",
    "\n",
    "        for suit in suits:\n",
    "            for rank in ranks:\n",
    "                created_cards = Card(suit,rank)\n",
    "                self.all_cards.append(created_cards)\n",
    "\n",
    "#Shuffle function\n",
    "    def shuffle(self):\n",
    "        random.shuffle(self.all_cards)\n",
    "        \n",
    "#To pop out and deal with 1 card @ a time    \n",
    "    def deal_one(self):\n",
    "        return self.all_cards.pop()\n",
    "        "
   ]
  },
  {
   "cell_type": "code",
   "execution_count": 24,
   "id": "3fe786e0",
   "metadata": {},
   "outputs": [],
   "source": [
    " new_deck = Deck()"
   ]
  },
  {
   "cell_type": "code",
   "execution_count": 25,
   "id": "aab3948a",
   "metadata": {},
   "outputs": [],
   "source": [
    "new_deck.shuffle()"
   ]
  },
  {
   "cell_type": "code",
   "execution_count": 26,
   "id": "7bf0e849",
   "metadata": {},
   "outputs": [],
   "source": [
    "current_card = new_deck.deal_one()"
   ]
  },
  {
   "cell_type": "code",
   "execution_count": 27,
   "id": "0c6c5a4b",
   "metadata": {},
   "outputs": [
    {
     "name": "stdout",
     "output_type": "stream",
     "text": [
      "Hearts of Queen\n"
     ]
    }
   ],
   "source": [
    "print(current_card)"
   ]
  },
  {
   "cell_type": "code",
   "execution_count": 28,
   "id": "304b7504",
   "metadata": {},
   "outputs": [],
   "source": [
    "class Player():\n",
    "    def __init__(self,name):\n",
    "        self.name = name\n",
    "        self.all_cards = []\n",
    "    \n",
    "    def remove_one_card(self):\n",
    "        return self.all_cards.pop(0)\n",
    "    \n",
    "    def add_cards(self,new_cards):\n",
    "        if type(new_cards)==type([]):#Add multiple cards at once\n",
    "            self.all_cards.extend(new_cards)\n",
    "        else:#Add single cards\n",
    "            self.all_cards.append(new_cards)\n",
    "            \n",
    "    def __str__(self):\n",
    "        return f'Player {self.name} has {len(self.all_cards)} cards.'"
   ]
  },
  {
   "cell_type": "code",
   "execution_count": 29,
   "id": "396c6935",
   "metadata": {},
   "outputs": [],
   "source": [
    "new_player = Player('Krish')"
   ]
  },
  {
   "cell_type": "code",
   "execution_count": 30,
   "id": "fbbd7cb5",
   "metadata": {},
   "outputs": [
    {
     "name": "stdout",
     "output_type": "stream",
     "text": [
      "Player Krish has 0 cards.\n"
     ]
    }
   ],
   "source": [
    "print(new_player)"
   ]
  },
  {
   "cell_type": "code",
   "execution_count": 31,
   "id": "1685898e",
   "metadata": {},
   "outputs": [],
   "source": [
    "new_player.add_cards(current_card)"
   ]
  },
  {
   "cell_type": "code",
   "execution_count": 32,
   "id": "d52a60f5",
   "metadata": {},
   "outputs": [
    {
     "name": "stdout",
     "output_type": "stream",
     "text": [
      "Player Krish has 1 cards.\n"
     ]
    }
   ],
   "source": [
    "print(new_player)"
   ]
  },
  {
   "cell_type": "code",
   "execution_count": 33,
   "id": "f75e193d",
   "metadata": {},
   "outputs": [
    {
     "name": "stdout",
     "output_type": "stream",
     "text": [
      "Hearts of Queen\n"
     ]
    }
   ],
   "source": [
    "print(current_card)"
   ]
  },
  {
   "cell_type": "code",
   "execution_count": 34,
   "id": "e92a5b05",
   "metadata": {},
   "outputs": [
    {
     "name": "stdout",
     "output_type": "stream",
     "text": [
      "Hearts of Queen\n"
     ]
    }
   ],
   "source": [
    "print(new_player.all_cards[0])"
   ]
  },
  {
   "cell_type": "code",
   "execution_count": 35,
   "id": "1f09ef70",
   "metadata": {},
   "outputs": [],
   "source": [
    "#THe current card is added into deck of new_player"
   ]
  },
  {
   "cell_type": "code",
   "execution_count": 36,
   "id": "9fd89685",
   "metadata": {},
   "outputs": [],
   "source": [
    "new_player.add_cards([current_card,current_card,current_card])"
   ]
  },
  {
   "cell_type": "code",
   "execution_count": 37,
   "id": "756bd6d1",
   "metadata": {},
   "outputs": [
    {
     "name": "stdout",
     "output_type": "stream",
     "text": [
      "Player Krish has 4 cards.\n"
     ]
    }
   ],
   "source": [
    "print(new_player)"
   ]
  },
  {
   "cell_type": "code",
   "execution_count": 38,
   "id": "9bb9b122",
   "metadata": {},
   "outputs": [
    {
     "data": {
      "text/plain": [
       "<__main__.Card at 0x1dab622ac70>"
      ]
     },
     "execution_count": 38,
     "metadata": {},
     "output_type": "execute_result"
    }
   ],
   "source": [
    "new_player.remove_one_card()"
   ]
  },
  {
   "cell_type": "code",
   "execution_count": 39,
   "id": "c7748b3d",
   "metadata": {},
   "outputs": [
    {
     "name": "stdout",
     "output_type": "stream",
     "text": [
      "Player Krish has 3 cards.\n"
     ]
    }
   ],
   "source": [
    "print(new_player)"
   ]
  },
  {
   "cell_type": "code",
   "execution_count": null,
   "id": "961ab068",
   "metadata": {},
   "outputs": [],
   "source": [
    "\n"
   ]
  },
  {
   "cell_type": "code",
   "execution_count": 56,
   "id": "2c4a6954",
   "metadata": {},
   "outputs": [],
   "source": [
    "#GAME\n",
    "player_one = Player(\"one\")\n",
    "player_two = Player(\"two\")\n",
    "\n",
    "new_deck = Deck()\n",
    "new_deck.shuffle()\n",
    "\n",
    "for x in range(26):\n",
    "    player_one.add_cards(new_deck.deal_one())\n",
    "    player_two.add_cards(new_deck.deal_one())"
   ]
  },
  {
   "cell_type": "code",
   "execution_count": 57,
   "id": "4469dcb9",
   "metadata": {},
   "outputs": [
    {
     "data": {
      "text/plain": [
       "26"
      ]
     },
     "execution_count": 57,
     "metadata": {},
     "output_type": "execute_result"
    }
   ],
   "source": [
    "len(player_one.all_cards)"
   ]
  },
  {
   "cell_type": "code",
   "execution_count": 58,
   "id": "f5884626",
   "metadata": {},
   "outputs": [
    {
     "name": "stdout",
     "output_type": "stream",
     "text": [
      "Hearts of Jack\n"
     ]
    }
   ],
   "source": [
    "print(player_one.all_cards[0])"
   ]
  },
  {
   "cell_type": "code",
   "execution_count": 59,
   "id": "abb8629b",
   "metadata": {},
   "outputs": [],
   "source": [
    "game_on = True"
   ]
  },
  {
   "cell_type": "code",
   "execution_count": 60,
   "id": "22f0a01f",
   "metadata": {},
   "outputs": [
    {
     "name": "stdout",
     "output_type": "stream",
     "text": [
      "round1\n",
      "WAR!!\n",
      "round2\n",
      "round3\n",
      "round4\n",
      "round5\n",
      "round6\n",
      "round7\n",
      "round8\n",
      "round9\n",
      "round10\n",
      "round11\n",
      "round12\n",
      "WAR!!\n",
      "round13\n",
      "round14\n",
      "round15\n",
      "round16\n",
      "round17\n",
      "WAR!!\n",
      "round18\n",
      "WAR!!\n",
      "round19\n",
      "round20\n",
      "round21\n",
      "round22\n",
      "WAR!!\n",
      "round23\n",
      "round24\n",
      "round25\n",
      "round26\n",
      "round27\n",
      "round28\n",
      "round29\n",
      "round30\n",
      "round31\n",
      "round32\n",
      "round33\n",
      "round34\n",
      "round35\n",
      "round36\n",
      "round37\n",
      "round38\n",
      "round39\n",
      "round40\n",
      "round41\n",
      "WAR!!\n",
      "round42\n",
      "round43\n",
      "round44\n",
      "round45\n",
      "round46\n",
      "round47\n",
      "round48\n",
      "WAR!!\n",
      "round49\n",
      "round50\n",
      "round51\n",
      "round52\n",
      "round53\n",
      "round54\n",
      "round55\n",
      "round56\n",
      "round57\n",
      "round58\n",
      "WAR!!\n",
      "round59\n",
      "round60\n",
      "round61\n",
      "round62\n",
      "WAR!!\n",
      "WAR!!\n",
      "round63\n",
      "round64\n",
      "round65\n",
      "WAR!!\n",
      "round66\n",
      "WAR!!\n",
      "round67\n",
      "round68\n",
      "WAR!!\n",
      "round69\n",
      "round70\n",
      "round71\n",
      "round72\n",
      "WAR!!\n",
      "round73\n",
      "round74\n",
      "round75\n",
      "round76\n",
      "round77\n",
      "round78\n",
      "round79\n",
      "WAR!!\n",
      "round80\n",
      "round81\n",
      "round82\n",
      "round83\n",
      "round84\n",
      "round85\n",
      "round86\n",
      "WAR!!\n",
      "round87\n",
      "player one out of cards ,lost!! PLAYER 2 WINS!!\n"
     ]
    }
   ],
   "source": [
    "round_num = 0\n",
    "\n",
    "while game_on:\n",
    "    round_num += 1\n",
    "    print(f\"round{round_num}\")\n",
    "    \n",
    "    if len(player_one.all_cards)==0:\n",
    "        print(\"player one out of cards ,lost!! PLAYER 2 WINS!!\")\n",
    "        game_on = False\n",
    "        break\n",
    "    \n",
    "    if len(player_two.all_cards)==0:\n",
    "        print(\"player two out of cards ,lost!! PLAYER 1 WINS!!\")\n",
    "        game_on = False\n",
    "        break\n",
    "    \n",
    "    #NEITHER  HAS WON GAME CONTINUES TO NEXT ROUND\n",
    "    \n",
    "    player_one_cards = []\n",
    "    player_one_cards.append(player_one.remove_one_card())\n",
    "    \n",
    "    \n",
    "    player_two_cards = []\n",
    "    player_two_cards.append(player_two.remove_one_card())\n",
    "    \n",
    "    \n",
    "    at_war = True\n",
    "    \n",
    "    while at_war:\n",
    "        if player_one_cards[-1].value > player_two_cards[-1].value:\n",
    "            player_one.add_cards(player_one_cards)\n",
    "            player_one.add_cards(player_two_cards)\n",
    "            \n",
    "            at_war = False\n",
    "        \n",
    "        elif player_one_cards[-1].value < player_two_cards[-1].value:\n",
    "            player_two.add_cards(player_one_cards)\n",
    "            player_two.add_cards(player_two_cards)\n",
    "            \n",
    "            at_war = False\n",
    "        \n",
    "        else:\n",
    "            print('WAR!!')\n",
    "            \n",
    "            if len(player_one.all_cards)<5:\n",
    "                print(\"Player one unable to play \\n PLAYER 2 WINS!!\")\n",
    "                game_on=False\n",
    "                break\n",
    "            \n",
    "            elif len(player_two.all_cards)<5:\n",
    "                print(\"player 2 unable to play \\n PLAYER 1 WINS!!\")\n",
    "                game_on=False\n",
    "                break\n",
    "                \n",
    "            else:\n",
    "                for num in range(5):\n",
    "                    player_one_cards.append(player_one.remove_one_card())\n",
    "                    player_two_cards.append(player_two.remove_one_card())\n",
    "                \n",
    "            \n",
    "\n",
    "            \n",
    "    \n",
    "    "
   ]
  },
  {
   "cell_type": "code",
   "execution_count": null,
   "id": "20d43c7c",
   "metadata": {},
   "outputs": [],
   "source": []
  },
  {
   "cell_type": "code",
   "execution_count": null,
   "id": "32db3ca2",
   "metadata": {},
   "outputs": [],
   "source": []
  },
  {
   "cell_type": "code",
   "execution_count": null,
   "id": "adeb2472",
   "metadata": {},
   "outputs": [],
   "source": []
  }
 ],
 "metadata": {
  "kernelspec": {
   "display_name": "Python 3 (ipykernel)",
   "language": "python",
   "name": "python3"
  },
  "language_info": {
   "codemirror_mode": {
    "name": "ipython",
    "version": 3
   },
   "file_extension": ".py",
   "mimetype": "text/x-python",
   "name": "python",
   "nbconvert_exporter": "python",
   "pygments_lexer": "ipython3",
   "version": "3.9.13"
  }
 },
 "nbformat": 4,
 "nbformat_minor": 5
}
